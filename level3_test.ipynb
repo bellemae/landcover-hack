{
 "cells": [
  {
   "cell_type": "markdown",
   "metadata": {},
   "source": [
    "# landcover-hack ODC workshop 2019\n",
    "\n",
    "This is a test notebook to derive a level 3 classification for select areas in Australia based on the FAO LCCS landcover classification"
   ]
  },
  {
   "cell_type": "code",
   "execution_count": null,
   "metadata": {},
   "outputs": [],
   "source": [
    "import numpy\n",
    "import xarray\n",
    "import scipy\n",
    "from matplotlib import pyplot\n",
    "from matplotlib import cm\n",
    "import datacube\n",
    "from datacube.storage import masking\n",
    "\n",
    "#import classification script\n",
    "import lccs_l3"
   ]
  },
  {
   "cell_type": "markdown",
   "metadata": {},
   "source": [
    "Data input from AWS DEA"
   ]
  },
  {
   "cell_type": "code",
   "execution_count": null,
   "metadata": {},
   "outputs": [],
   "source": [
    "# set up object and bounds\n",
    "\n",
    "variables_xarray_list = []\n",
    "dc = datacube.Datacube(app=\"le_lccs\")\n",
    "\n",
    "# Use 100 x 100 m to make it a bit easier - can change\n",
    "pixel_size_x = 100\n",
    "pixel_size_y = -100\n",
    "\n",
    "min_x = 1500000.000\n",
    "max_x = 1600000.000\n",
    "min_y = -2200000.000\n",
    "max_y = -2100000.000\n",
    "\n",
    "out_crs = \"EPSG:3577\"\n",
    "\n",
    "min_lon = 146.39916792060743\n",
    "max_lon = 146.29233424663812\n",
    "min_lat = -19.740788455284356\n",
    "max_lat = -18.84675082028807\n",
    "\n",
    "start_time = \"2017-01-01\"\n",
    "end_time = \"2018-01-15\""
   ]
  },
  {
   "cell_type": "markdown",
   "metadata": {},
   "source": [
    "## 5 layers required for level 3 classification\n",
    "\n",
    "- vegetat_veg_cat (layer for vegetation/non vegetation)\n",
    "- aquatic_wat_cat (layer for aquatic/terrestrial\n",
    "- cultman_agr_cat (layer for cultivated/natural)\n",
    "- artific_urb_cat (layer for artificial surfaces/bare areas)\n",
    "- artwatr_wat_cat (layer for artificial water/natural water)"
   ]
  },
  {
   "cell_type": "markdown",
   "metadata": {},
   "source": [
    "### vegetat_veg_cat"
   ]
  },
  {
   "cell_type": "code",
   "execution_count": null,
   "metadata": {},
   "outputs": [],
   "source": [
    "var_xarray = dc.load(product=\"fc_percentile_albers_annual\", measurements=[\"PV_PC_10\", \"NPV_PC_10\"],\n",
    "                     x=(min_x, max_x),\n",
    "                     y=(min_y, max_y),\n",
    "                     crs=out_crs,\n",
    "                     resolution=(pixel_size_x, pixel_size_y),\n",
    "                     time=(start_time, end_time))\n",
    "\n",
    "# Check that dataset exists\n",
    "var_xarray"
   ]
  },
  {
   "cell_type": "code",
   "execution_count": null,
   "metadata": {},
   "outputs": [],
   "source": [
    "# Plot data\n",
    "var_xarray = masking.mask_invalid_data(var_xarray)\n",
    "var_xarray.PV_PC_10.plot(figsize=(5, 5), cmap = 'Reds')\n",
    "var_xarray.NPV_PC_10.plot(figsize=(5, 5), cmap = 'Reds')"
   ]
  },
  {
   "cell_type": "code",
   "execution_count": null,
   "metadata": {},
   "outputs": [],
   "source": [
    "# Create binary layer representing vegetated (1) and non-vegetated (0)\n",
    "vegetat_veg_cat_ds = ((var_xarray[\"PV_PC_10\"] >= 1) | (var_xarray[\"NPV_PC_10\"] >= 1))"
   ]
  },
  {
   "cell_type": "code",
   "execution_count": null,
   "metadata": {},
   "outputs": [],
   "source": [
    "# Convert to Dataset and add name\n",
    "vegetat_veg_cat_ds = vegetat_veg_cat_ds.to_dataset(name=\"vegetat_veg_cat\")"
   ]
  },
  {
   "cell_type": "code",
   "execution_count": null,
   "metadata": {},
   "outputs": [],
   "source": [
    "# Plot output\n",
    "vegetat_veg_cat_ds[\"vegetat_veg_cat\"].plot(figsize=(5, 5))"
   ]
  },
  {
   "cell_type": "code",
   "execution_count": null,
   "metadata": {},
   "outputs": [],
   "source": [
    "# Add to output array\n",
    "variables_xarray_list.append(vegetat_veg_cat_ds)"
   ]
  },
  {
   "cell_type": "markdown",
   "metadata": {},
   "source": [
    "### aquatic_wat_cat"
   ]
  },
  {
   "cell_type": "code",
   "execution_count": null,
   "metadata": {},
   "outputs": [],
   "source": [
    "var_xarray = dc.load(product=\"wofs_annual_summary\",measurements=[\"frequency\"], \n",
    "                     x=(min_x, max_x),\n",
    "                     y=(min_y, max_y),\n",
    "                     crs=out_crs,\n",
    "                     resolution=(pixel_size_x, pixel_size_y),\n",
    "                     time=(start_time, end_time))\n",
    "\n",
    "# Check that dataset exists\n",
    "var_xarray"
   ]
  },
  {
   "cell_type": "code",
   "execution_count": null,
   "metadata": {},
   "outputs": [],
   "source": [
    "# Plot data\n",
    "var_xarray = masking.mask_invalid_data(var_xarray)\n",
    "var_xarray.frequency.plot(figsize=(5, 5), cmap = 'Blues')"
   ]
  },
  {
   "cell_type": "code",
   "execution_count": null,
   "metadata": {},
   "outputs": [],
   "source": [
    "# Create binary layer representing aquatic (1) and terrestrial (0)\n",
    "aquatic_wat_cat_ds = ((var_xarray[\"frequency\"] >= 0.2))"
   ]
  },
  {
   "cell_type": "code",
   "execution_count": null,
   "metadata": {},
   "outputs": [],
   "source": [
    "# Convert to Dataset and add name\n",
    "aquatic_wat_cat_ds = aquatic_wat_cat_ds.to_dataset(name=\"aquatic_wat_cat\")"
   ]
  },
  {
   "cell_type": "code",
   "execution_count": null,
   "metadata": {},
   "outputs": [],
   "source": [
    "# Plot output\n",
    "aquatic_wat_cat_ds[\"aquatic_wat_cat\"].plot(figsize=(5, 5))"
   ]
  },
  {
   "cell_type": "code",
   "execution_count": null,
   "metadata": {},
   "outputs": [],
   "source": [
    "# Add to output array\n",
    "variables_xarray_list.append(aquatic_wat_cat_ds)"
   ]
  },
  {
   "cell_type": "markdown",
   "metadata": {},
   "source": [
    "### cultman_agr_cat"
   ]
  },
  {
   "cell_type": "markdown",
   "metadata": {},
   "source": [
    "### artific_urb_cat"
   ]
  },
  {
   "cell_type": "code",
   "execution_count": null,
   "metadata": {},
   "outputs": [],
   "source": []
  },
  {
   "cell_type": "markdown",
   "metadata": {},
   "source": [
    "### artwatr_wat_cat"
   ]
  },
  {
   "cell_type": "code",
   "execution_count": null,
   "metadata": {},
   "outputs": [],
   "source": []
  },
  {
   "cell_type": "markdown",
   "metadata": {},
   "source": [
    "## Classification"
   ]
  },
  {
   "cell_type": "markdown",
   "metadata": {},
   "source": [
    "The LCCS classificaition is hierachial. The 8 classes are shown below.\n",
    "\n",
    "| Class name | Code | Numeric code |\n",
    "|----------------------------------|-----|-----|\n",
    "| Cultivated Terrestrial Vegetated | A11 | 111 |\n",
    "| Natural Terrestrial Vegetated | A12 | 112 |\n",
    "| Cultivated Aquatic Vegetated | A23 | 123 |\n",
    "| Natural Aquatic Vegetated | A24 | 124 |\n",
    "| Artificial Surface | B15 | 215 |\n",
    "| Natural Surface | B16 | 216 |\n",
    "| Artificial Water | B27 | 227 |\n",
    "| Natural Water | B28 | 228 |\n"
   ]
  },
  {
   "cell_type": "code",
   "execution_count": null,
   "metadata": {},
   "outputs": [],
   "source": [
    "# Merge to a single dataframe\n",
    "classification_data = xarray.merge(variables_xarray_list)"
   ]
  },
  {
   "cell_type": "code",
   "execution_count": null,
   "metadata": {},
   "outputs": [],
   "source": [
    "# Apply Level 3 classification using separate function. Works through in three stages\n",
    "level1, level2, level3 = lccs_l3.classify_lccs_level3(classification_data)"
   ]
  },
  {
   "cell_type": "code",
   "execution_count": null,
   "metadata": {},
   "outputs": [],
   "source": [
    "# Save classification values back to xarray\n",
    "out_class_xarray = xarray.Dataset({\"level1\" : (classification_data[\"vegetat_veg_cat\"].dims, level1),\n",
    "                                   \"level2\" : (classification_data[\"vegetat_veg_cat\"].dims, level2),\n",
    "                                   \"level3\" : (classification_data[\"vegetat_veg_cat\"].dims, level3)})\n",
    "classification_data = xarray.merge([classification_data, out_class_xarray])\n",
    "classification_data\n",
    "\n",
    "col_level2 = cm.get_cmap(\"Set1\", 2)\n",
    "classification_data.level2.plot(cmap=(col_level2))"
   ]
  },
  {
   "cell_type": "code",
   "execution_count": null,
   "metadata": {},
   "outputs": [],
   "source": [
    "#To check the results for level 3 use colour_lccs_level3 to get the colour scheme.\n",
    "red, green, blue, alpha = lccs_l3.colour_lccs_level3(level3[0])\n",
    "pyplot.imshow(numpy.dstack([red, green, blue, alpha]))"
   ]
  },
  {
   "cell_type": "code",
   "execution_count": null,
   "metadata": {},
   "outputs": [],
   "source": []
  }
 ],
 "metadata": {
  "kernelspec": {
   "display_name": "Python 3",
   "language": "python",
   "name": "python3"
  },
  "language_info": {
   "codemirror_mode": {
    "name": "ipython",
    "version": 3
   },
   "file_extension": ".py",
   "mimetype": "text/x-python",
   "name": "python",
   "nbconvert_exporter": "python",
   "pygments_lexer": "ipython3",
   "version": "3.6.7"
  }
 },
 "nbformat": 4,
 "nbformat_minor": 2
}
