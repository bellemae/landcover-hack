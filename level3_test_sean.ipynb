{
 "cells": [
  {
   "cell_type": "markdown",
   "metadata": {},
   "source": [
    "# landcover-hack ODC workshop 2019\n",
    "\n",
    "This is a test notebook to derive a level 3 classification for select areas in Australia based on the FAO LCCS landcover classification"
   ]
  },
  {
   "cell_type": "code",
   "execution_count": 1,
   "metadata": {},
   "outputs": [],
   "source": [
    "import numpy\n",
    "import xarray\n",
    "import scipy\n",
    "from matplotlib import pyplot\n",
    "from matplotlib import cm\n",
    "import matplotlib.gridspec as gridspec\n",
    "import datacube\n",
    "from datacube.storage import masking\n",
    "\n",
    "#import classification script\n",
    "import lccs_l3"
   ]
  },
  {
   "cell_type": "markdown",
   "metadata": {},
   "source": [
    "Data input from AWS DEA"
   ]
  },
  {
   "cell_type": "code",
   "execution_count": 2,
   "metadata": {},
   "outputs": [],
   "source": [
    "# set up object and bounds\n",
    "\n",
    "dc = datacube.Datacube(app=\"le_lccs\")\n",
    "\n",
    "res = (-25, 25)\n",
    "\n",
    "#current area is Ayr\n",
    "min_x = 1500000.000\n",
    "max_x = 1600000.000\n",
    "min_y = -2200000.000\n",
    "max_y = -2100000.000\n",
    "\n",
    "out_crs = \"EPSG:3577\"\n",
    "\n",
    "#Townsville\n",
    "max_lon = 147\n",
    "min_lon = 146.5\n",
    "min_lat = -19.5\n",
    "max_lat = -19\n",
    "\n",
    "time = (\"2010-01-01\", \"2010-12-15\")\n",
    "\n",
    "query=({'x':(min_x, max_x),\n",
    "        'y':(min_y, max_y),\n",
    "        'crs':out_crs,\n",
    "        'resolution':res})\n"
   ]
  },
  {
   "cell_type": "markdown",
   "metadata": {},
   "source": [
    "## 5 layers required for level 3 classification\n",
    "\n",
    "- vegetat_veg_cat (layer for vegetation/non vegetation)\n",
    "- aquatic_wat_cat (layer for aquatic/terrestrial\n",
    "- cultman_agr_cat (layer for cultivated/natural)\n",
    "- artific_urb_cat (layer for artificial surfaces/bare areas)\n",
    "- artwatr_wat_cat (layer for artificial water/natural water)"
   ]
  },
  {
   "cell_type": "markdown",
   "metadata": {},
   "source": [
    "### vegetat_veg_cat"
   ]
  },
  {
   "cell_type": "code",
   "execution_count": 3,
   "metadata": {},
   "outputs": [
    {
     "data": {
      "text/plain": [
       "<xarray.Dataset>\n",
       "Dimensions:    (time: 1, x: 4000, y: 4000)\n",
       "Coordinates:\n",
       "  * time       (time) datetime64[ns] 2010-01-01\n",
       "  * y          (y) float64 -2.1e+06 -2.1e+06 -2.1e+06 -2.1e+06 -2.1e+06 ...\n",
       "  * x          (x) float64 1.5e+06 1.5e+06 1.5e+06 1.5e+06 1.5e+06 1.5e+06 ...\n",
       "Data variables:\n",
       "    BS_PC_10   (time, y, x) float64 nan nan nan nan nan nan nan nan nan nan ...\n",
       "    PV_PC_10   (time, y, x) float64 nan nan nan nan nan nan nan nan nan nan ...\n",
       "    NPV_PC_10  (time, y, x) float64 nan nan nan nan nan nan nan nan nan nan ...\n",
       "    BS_PC_50   (time, y, x) float64 nan nan nan nan nan nan nan nan nan nan ...\n",
       "    PV_PC_50   (time, y, x) float64 nan nan nan nan nan nan nan nan nan nan ...\n",
       "    NPV_PC_50  (time, y, x) float64 nan nan nan nan nan nan nan nan nan nan ...\n",
       "    BS_PC_90   (time, y, x) float64 nan nan nan nan nan nan nan nan nan nan ...\n",
       "    PV_PC_90   (time, y, x) float64 nan nan nan nan nan nan nan nan nan nan ...\n",
       "    NPV_PC_90  (time, y, x) float64 nan nan nan nan nan nan nan nan nan nan ...\n",
       "Attributes:\n",
       "    crs:      EPSG:3577"
      ]
     },
     "execution_count": 3,
     "metadata": {},
     "output_type": "execute_result"
    }
   ],
   "source": [
    "var_xarray = dc.load(product=\"fc_percentile_albers_annual\",# measurements=[\"PV_PC_50\", \"NPV_PC_50\"], \n",
    "                     time=time, **query)\n",
    "var_xarray = masking.mask_invalid_data(var_xarray)\n",
    "\n",
    "# Check that dataset exists\n",
    "var_xarray"
   ]
  },
  {
   "cell_type": "code",
   "execution_count": 4,
   "metadata": {
    "scrolled": true
   },
   "outputs": [],
   "source": [
    "# Create binary layer representing vegetated (1) and non-vegetated (0)\n",
    "vegetat_veg_cat_ds = ((var_xarray[\"PV_PC_50\"] >= 50) | (var_xarray[\"NPV_PC_50\"] >= 50))"
   ]
  },
  {
   "cell_type": "code",
   "execution_count": 5,
   "metadata": {},
   "outputs": [],
   "source": [
    "# Convert to Dataset and add name\n",
    "vegetat_veg_cat_ds = vegetat_veg_cat_ds.to_dataset(name=\"vegetat_veg_cat\")"
   ]
  },
  {
   "cell_type": "code",
   "execution_count": 6,
   "metadata": {
    "scrolled": false
   },
   "outputs": [
    {
     "data": {
      "text/plain": [
       "<matplotlib.collections.QuadMesh at 0x7f954895acf8>"
      ]
     },
     "execution_count": 6,
     "metadata": {},
     "output_type": "execute_result"
    },
    {
     "data": {
      "image/png": "[encoded data removed]",
      "text/plain": [
       "<Figure size 432x360 with 2 Axes>"
      ]
     },
     "metadata": {
      "needs_background": "light"
     },
     "output_type": "display_data"
    }
   ],
   "source": [
    "# Plot output\n",
    "vegetat_veg_cat_ds[\"vegetat_veg_cat\"].plot(figsize=(6, 5))"
   ]
  },
  {
   "cell_type": "code",
   "execution_count": 7,
   "metadata": {},
   "outputs": [],
   "source": [
    "vegetat_veg_cat_ds = vegetat_veg_cat_ds.squeeze().drop('time')"
   ]
  },
  {
   "cell_type": "markdown",
   "metadata": {},
   "source": [
    "### aquatic_wat_cat"
   ]
  },
  {
   "cell_type": "code",
   "execution_count": 8,
   "metadata": {},
   "outputs": [
    {
     "data": {
      "text/plain": [
       "<xarray.Dataset>\n",
       "Dimensions:    (time: 1, x: 4000, y: 4000)\n",
       "Coordinates:\n",
       "  * time       (time) datetime64[ns] 2010-01-01\n",
       "  * y          (y) float64 -2.1e+06 -2.1e+06 -2.1e+06 -2.1e+06 -2.1e+06 ...\n",
       "  * x          (x) float64 1.5e+06 1.5e+06 1.5e+06 1.5e+06 1.5e+06 1.5e+06 ...\n",
       "Data variables:\n",
       "    frequency  (time, y, x) float32 1.0 1.0 1.0 1.0 1.0 1.0 1.0 1.0 1.0 1.0 ...\n",
       "Attributes:\n",
       "    crs:      EPSG:3577"
      ]
     },
     "execution_count": 8,
     "metadata": {},
     "output_type": "execute_result"
    }
   ],
   "source": [
    "var_xarray = dc.load(product=\"wofs_annual_summary\",measurements=[\"frequency\"], time=time, **query)\n",
    "\n",
    "# Check that dataset exists\n",
    "var_xarray"
   ]
  },
  {
   "cell_type": "code",
   "execution_count": 9,
   "metadata": {},
   "outputs": [
    {
     "data": {
      "text/plain": [
       "<matplotlib.collections.QuadMesh at 0x7f954873f320>"
      ]
     },
     "execution_count": 9,
     "metadata": {},
     "output_type": "execute_result"
    },
    {
     "data": {
      "image/png": "[encoded data removed]",
      "text/plain": [
       "<Figure size 432x360 with 2 Axes>"
      ]
     },
     "metadata": {
      "needs_background": "light"
     },
     "output_type": "display_data"
    }
   ],
   "source": [
    "# Plot data\n",
    "var_xarray = masking.mask_invalid_data(var_xarray)\n",
    "var_xarray.frequency.plot(figsize=(6, 5), cmap = 'Blues')"
   ]
  },
  {
   "cell_type": "code",
   "execution_count": 10,
   "metadata": {},
   "outputs": [],
   "source": [
    "# Create binary layer representing aquatic (1) and terrestrial (0)\n",
    "aquatic_wat_cat_ds = ((var_xarray[\"frequency\"] >= 0.01))"
   ]
  },
  {
   "cell_type": "code",
   "execution_count": 11,
   "metadata": {},
   "outputs": [],
   "source": [
    "# Convert to Dataset and add name\n",
    "aquatic_wat_cat_ds = aquatic_wat_cat_ds.to_dataset(name=\"aquatic_wat_cat\")"
   ]
  },
  {
   "cell_type": "code",
   "execution_count": 12,
   "metadata": {},
   "outputs": [
    {
     "data": {
      "text/plain": [
       "<matplotlib.collections.QuadMesh at 0x7f9548780240>"
      ]
     },
     "execution_count": 12,
     "metadata": {},
     "output_type": "execute_result"
    },
    {
     "data": {
      "image/png": "[encoded data removed]",
      "text/plain": [
       "<Figure size 432x360 with 2 Axes>"
      ]
     },
     "metadata": {
      "needs_background": "light"
     },
     "output_type": "display_data"
    }
   ],
   "source": [
    "# Plot output\n",
    "aquatic_wat_cat_ds[\"aquatic_wat_cat\"].plot(figsize=(6, 5))"
   ]
  },
  {
   "cell_type": "code",
   "execution_count": 13,
   "metadata": {},
   "outputs": [],
   "source": [
    "aquatic_wat_cat_ds = aquatic_wat_cat_ds.squeeze().drop('time')"
   ]
  },
  {
   "cell_type": "markdown",
   "metadata": {},
   "source": [
    "### cultman_agr_cat"
   ]
  },
  {
   "cell_type": "code",
   "execution_count": 14,
   "metadata": {},
   "outputs": [],
   "source": [
    "ls8_mads = dc.load(product=\"ls5_nbart_tmad_annual\", time=time, **query)"
   ]
  },
  {
   "cell_type": "code",
   "execution_count": 15,
   "metadata": {},
   "outputs": [],
   "source": [
    "cultman_agr_cat = ((ls8_mads[\"edev\"] > 0.115))"
   ]
  },
  {
   "cell_type": "code",
   "execution_count": 16,
   "metadata": {},
   "outputs": [],
   "source": [
    "cultman_agr_cat = cultman_agr_cat.to_dataset(name=\"cultman_agr_cat\")"
   ]
  },
  {
   "cell_type": "code",
   "execution_count": 17,
   "metadata": {},
   "outputs": [],
   "source": [
    "cultman_agr_cat = cultman_agr_cat.squeeze().drop('time')"
   ]
  },
  {
   "cell_type": "markdown",
   "metadata": {},
   "source": [
    "### artific_urb_cat"
   ]
  },
  {
   "cell_type": "markdown",
   "metadata": {},
   "source": [
    "#### Dry Bare Soil Index - DBSI"
   ]
  },
  {
   "cell_type": "code",
   "execution_count": 18,
   "metadata": {},
   "outputs": [],
   "source": [
    "# Load data\n",
    "ls8_gm = dc.load(product=\"ls5_nbart_geomedian_annual\", time=time, **query)\n",
    "ls8_gm = masking.mask_invalid_data(ls8_gm)"
   ]
  },
  {
   "cell_type": "code",
   "execution_count": 19,
   "metadata": {},
   "outputs": [],
   "source": [
    "# calculate ndvi\n",
    "ndvi = ((ls8_gm.nir - ls8_gm.red) / (ls8_gm.nir + ls8_gm.red)).squeeze().drop('time')\n",
    "\n",
    "# # calculate DBSI\n",
    "# dbsi = (((ls8_gm.swir1 - ls8_gm.green) / (ls8_gm.swir1 + ls8_gm.green)) - ndvi).squeeze().drop('time')\n",
    "# DBSI_bare = (dbsi > .26)\n",
    "# DBSI_bare.plot()"
   ]
  },
  {
   "cell_type": "code",
   "execution_count": 20,
   "metadata": {},
   "outputs": [],
   "source": [
    "# dbsi.plot()"
   ]
  },
  {
   "cell_type": "code",
   "execution_count": 21,
   "metadata": {},
   "outputs": [],
   "source": [
    "# # Create binary layer representing urban (1) and baresoil (0)\n",
    "# artific_urb_cat = (~DBSI_bare).to_dataset(name=\"artific_urb_cat\")"
   ]
  },
  {
   "cell_type": "markdown",
   "metadata": {},
   "source": [
    "# Alternative artifical surface index"
   ]
  },
  {
   "cell_type": "code",
   "execution_count": 22,
   "metadata": {},
   "outputs": [
    {
     "data": {
      "text/plain": [
       "<matplotlib.collections.QuadMesh at 0x7f95485857b8>"
      ]
     },
     "execution_count": 22,
     "metadata": {},
     "output_type": "execute_result"
    },
    {
     "data": {
      "image/png": "[encoded data removed]",
      "text/plain": [
       "<Figure size 432x288 with 2 Axes>"
      ]
     },
     "metadata": {
      "needs_background": "light"
     },
     "output_type": "display_data"
    }
   ],
   "source": [
    "NDBI = ((ls8_gm.nir - ls8_gm.swir1) /  (ls8_gm.nir + ls8_gm.swir1))\n",
    "NDBI.plot()"
   ]
  },
  {
   "cell_type": "code",
   "execution_count": 23,
   "metadata": {
    "scrolled": true
   },
   "outputs": [],
   "source": [
    "# #urbanindex = 7-4/7+4\n",
    "\n",
    "# UI = (ls8_gm.swir2-ls8_gm.nir) / (ls8_gm.swir2+ls8_gm.nir)\n",
    "# UI = UI > 0\n",
    "\n",
    "# UI.plot()"
   ]
  },
  {
   "cell_type": "code",
   "execution_count": 24,
   "metadata": {},
   "outputs": [
    {
     "data": {
      "text/plain": [
       "<matplotlib.collections.QuadMesh at 0x7f9548629d68>"
      ]
     },
     "execution_count": 24,
     "metadata": {},
     "output_type": "execute_result"
    },
    {
     "data": {
      "image/png": "[encoded data removed]",
      "text/plain": [
       "<Figure size 432x288 with 2 Axes>"
      ]
     },
     "metadata": {
      "needs_background": "light"
     },
     "output_type": "display_data"
    }
   ],
   "source": [
    "x = NDBI.where(ndvi<0.25)\n",
    "y = x < 0\n",
    "y.plot()"
   ]
  },
  {
   "cell_type": "code",
   "execution_count": 25,
   "metadata": {},
   "outputs": [],
   "source": [
    "# Create binary layer representing urban (1) and baresoil (0)\n",
    "artific_urb_cat = (y.squeeze().drop('time')).to_dataset(name=\"artific_urb_cat\")"
   ]
  },
  {
   "cell_type": "markdown",
   "metadata": {},
   "source": [
    "#### MADs"
   ]
  },
  {
   "cell_type": "code",
   "execution_count": 26,
   "metadata": {},
   "outputs": [],
   "source": [
    "# # Load data\n",
    "# ls8_mad = dc.load(product=\"ls8_nbart_tmad_annual\", **query)\n",
    "# ls8_mad = masking.mask_invalid_data(ls8_mad)\n"
   ]
  },
  {
   "cell_type": "code",
   "execution_count": 27,
   "metadata": {},
   "outputs": [],
   "source": [
    "# bc = ls8_mad.bcdev.isel(time=0)\n",
    "# euc = ls8_mad.edev.isel(time=0)\n",
    "# spec = ls8_mad.sdev.isel(time=0)\n",
    "\n",
    "# # Plot MAD data\n",
    "# # %matplotlib inline\n",
    "# # fig=pyplot.figure(figsize=(10, 10))\n",
    "# # columns = 2\n",
    "# # rows = 1\n",
    "# # ax = fig.add_subplot(1, 2, 1)\n",
    "# # ax.set_title(\"MAD spectral changes\")\n",
    "# # ax.imshow(spec)\n",
    "\n",
    "# # ax1 = fig.add_subplot(1, 2, 2)\n",
    "# # ax1.set_title(\"MAD - very little spectral change\")\n",
    "# # ax1.imshow(spec.where(spec < .002))\n",
    "# # pyplot.show()"
   ]
  },
  {
   "cell_type": "code",
   "execution_count": 28,
   "metadata": {},
   "outputs": [],
   "source": [
    "# Create binary layer representing urban (1) and baresoil (0)\n",
    "#artific_urb_cat = (spec < .002).to_dataset(name=\"artific_urb_cat\")"
   ]
  },
  {
   "cell_type": "markdown",
   "metadata": {},
   "source": [
    "### artwatr_wat_cat"
   ]
  },
  {
   "cell_type": "code",
   "execution_count": 29,
   "metadata": {},
   "outputs": [
    {
     "data": {
      "text/plain": [
       "<xarray.Dataset>\n",
       "Dimensions:  (time: 1, x: 4000, y: 4000)\n",
       "Coordinates:\n",
       "  * time     (time) datetime64[ns] 2014-02-10T18:32:38\n",
       "  * y        (y) float64 -2.1e+06 -2.1e+06 -2.1e+06 -2.1e+06 -2.1e+06 ...\n",
       "  * x        (x) float64 1.5e+06 1.5e+06 1.5e+06 1.5e+06 1.5e+06 1.5e+06 ...\n",
       "Data variables:\n",
       "    band1    (time, y, x) uint8 0 0 0 0 0 0 0 0 0 0 0 0 0 0 0 0 0 0 0 0 0 0 ...\n",
       "Attributes:\n",
       "    crs:      EPSG:3577"
      ]
     },
     "execution_count": 29,
     "metadata": {},
     "output_type": "execute_result"
    }
   ],
   "source": [
    "var_xarray = dc.load(product=\"geofabric\",measurements=[\"band1\"], **query)\n",
    "\n",
    "# Check that dataset exists\n",
    "var_xarray"
   ]
  },
  {
   "cell_type": "code",
   "execution_count": 30,
   "metadata": {},
   "outputs": [
    {
     "data": {
      "text/plain": [
       "<matplotlib.image.AxesImage at 0x7f9548439978>"
      ]
     },
     "execution_count": 30,
     "metadata": {},
     "output_type": "execute_result"
    },
    {
     "data": {
      "image/png": "[encoded data removed]",
      "text/plain": [
       "<Figure size 432x288 with 2 Axes>"
      ]
     },
     "metadata": {
      "needs_background": "light"
     },
     "output_type": "display_data"
    }
   ],
   "source": [
    "# Plot data\n",
    "var_xarray.band1.isel(time=0).plot.imshow(cmap=\"nipy_spectral\")"
   ]
  },
  {
   "cell_type": "code",
   "execution_count": 31,
   "metadata": {},
   "outputs": [],
   "source": [
    "# Create binary layer representing artificial water (1) and natural water (0)\n",
    "artwatr_wat_cat_ds = ((var_xarray[\"band1\"] == 1) | (var_xarray[\"band1\"] == 8))"
   ]
  },
  {
   "cell_type": "code",
   "execution_count": 32,
   "metadata": {},
   "outputs": [],
   "source": [
    "# Convert to Dataset and add name\n",
    "artwatr_wat_cat_ds = artwatr_wat_cat_ds.to_dataset(name=\"artwatr_wat_cat\")"
   ]
  },
  {
   "cell_type": "code",
   "execution_count": 33,
   "metadata": {
    "scrolled": false
   },
   "outputs": [
    {
     "data": {
      "text/plain": [
       "<matplotlib.collections.QuadMesh at 0x7f954845c198>"
      ]
     },
     "execution_count": 33,
     "metadata": {},
     "output_type": "execute_result"
    },
    {
     "data": {
      "image/png": "[encoded data removed]",
      "text/plain": [
       "<Figure size 360x360 with 2 Axes>"
      ]
     },
     "metadata": {
      "needs_background": "light"
     },
     "output_type": "display_data"
    }
   ],
   "source": [
    "# Plot output\n",
    "artwatr_wat_cat_ds[\"artwatr_wat_cat\"].plot(figsize=(5, 5))"
   ]
  },
  {
   "cell_type": "code",
   "execution_count": 34,
   "metadata": {},
   "outputs": [],
   "source": [
    "artwatr_wat_cat_ds = artwatr_wat_cat_ds.squeeze().drop('time')"
   ]
  },
  {
   "cell_type": "code",
   "execution_count": 35,
   "metadata": {},
   "outputs": [],
   "source": [
    "variables_xarray_list = []\n",
    "variables_xarray_list.append(artwatr_wat_cat_ds)\n",
    "variables_xarray_list.append(aquatic_wat_cat_ds)\n",
    "variables_xarray_list.append(vegetat_veg_cat_ds)\n",
    "variables_xarray_list.append(cultman_agr_cat)\n",
    "variables_xarray_list.append(artific_urb_cat)"
   ]
  },
  {
   "cell_type": "markdown",
   "metadata": {},
   "source": [
    "## Classification"
   ]
  },
  {
   "cell_type": "markdown",
   "metadata": {},
   "source": [
    "The LCCS classificaition is hierachial. The 8 classes are shown below.\n",
    "\n",
    "| Class name | Code | Numeric code |\n",
    "|----------------------------------|-----|-----|\n",
    "| Cultivated Terrestrial Vegetated | A11 | 111 |\n",
    "| Natural Terrestrial Vegetated | A12 | 112 |\n",
    "| Cultivated Aquatic Vegetated | A23 | 123 |\n",
    "| Natural Aquatic Vegetated | A24 | 124 |\n",
    "| Artificial Surface | B15 | 215 |\n",
    "| Natural Surface | B16 | 216 |\n",
    "| Artificial Water | B27 | 227 |\n",
    "| Natural Water | B28 | 228 |\n"
   ]
  },
  {
   "cell_type": "code",
   "execution_count": 36,
   "metadata": {},
   "outputs": [],
   "source": [
    "# Merge to a single dataframe\n",
    "classification_data = xarray.merge(variables_xarray_list)"
   ]
  },
  {
   "cell_type": "code",
   "execution_count": 37,
   "metadata": {},
   "outputs": [],
   "source": [
    "# Apply Level 3 classification using separate function. Works through in three stages\n",
    "level1, level2, level3 = lccs_l3.classify_lccs_level3(classification_data)"
   ]
  },
  {
   "cell_type": "code",
   "execution_count": 38,
   "metadata": {},
   "outputs": [],
   "source": [
    "# Save classification values back to xarray\n",
    "out_class_xarray = xarray.Dataset({\"level1\" : (classification_data[\"vegetat_veg_cat\"].dims, level1),\n",
    "                                   \"level2\" : (classification_data[\"vegetat_veg_cat\"].dims, level2),\n",
    "                                   \"level3\" : (classification_data[\"vegetat_veg_cat\"].dims, level3)})\n",
    "classification_data = xarray.merge([classification_data, out_class_xarray])\n",
    "classification_data\n",
    "\n",
    "col_level2 = cm.get_cmap(\"Set1\", 2)\n",
    "# classification_data.level2.plot(cmap=(col_level2))"
   ]
  },
  {
   "cell_type": "code",
   "execution_count": 39,
   "metadata": {},
   "outputs": [
    {
     "name": "stdout",
     "output_type": "stream",
     "text": [
      "level 1: [100 200]\n",
      "level 2: [10 20]\n",
      "level 3: [111 112 123 124 215 216 227 228]\n"
     ]
    }
   ],
   "source": [
    "print(\"level 1:\",numpy.unique(classification_data.level1))\n",
    "print(\"level 2:\",numpy.unique(classification_data.level2))\n",
    "print(\"level 3:\",numpy.unique(classification_data.level3))"
   ]
  },
  {
   "cell_type": "code",
   "execution_count": 40,
   "metadata": {},
   "outputs": [],
   "source": [
    "# from cartopy.feature import NaturalEarthFeature\n",
    "# shp_fn = shpreader.natural_earth(resolution=resolution, category='cultural', name='populated_places')\n",
    "\n",
    "# states = NaturalEarthFeature(category='cultural', scale='50m', facecolor='none',\n",
    "#                                  name='admin_1_states_provinces_shp')"
   ]
  },
  {
   "cell_type": "code",
   "execution_count": 41,
   "metadata": {
    "scrolled": true
   },
   "outputs": [
    {
     "data": {
      "application/javascript": [
       "/* Put everything inside the global mpl namespace */\n",
       "window.mpl = {};\n",
       "\n",
       "\n",
       "mpl.get_websocket_type = function() {\n",
       "    if (typeof(WebSocket) !== 'undefined') {\n",
       "        return WebSocket;\n",
       "    } else if (typeof(MozWebSocket) !== 'undefined') {\n",
       "        return MozWebSocket;\n",
       "    } else {\n",
       "        alert('Your browser does not have WebSocket support.' +\n",
       "              'Please try Chrome, Safari or Firefox ≥ 6. ' +\n",
       "              'Firefox 4 and 5 are also supported but you ' +\n",
       "              'have to enable WebSockets in about:config.');\n",
       "    };\n",
       "}\n",
       "\n",
       "mpl.figure = function(figure_id, websocket, ondownload, parent_element) {\n",
       "    this.id = figure_id;\n",
       "\n",
       "    this.ws = websocket;\n",
       "\n",
       "    this.supports_binary = (this.ws.binaryType != undefined);\n",
       "\n",
       "    if (!this.supports_binary) {\n",
       "        var warnings = document.getElementById(\"mpl-warnings\");\n",
       "        if (warnings) {\n",
       "            warnings.style.display = 'block';\n",
       "            warnings.textContent = (\n",
       "                \"This browser does not support binary websocket messages. \" +\n",
       "                    \"Performance may be slow.\");\n",
       "        }\n",
       "    }\n",
       "\n",
       "    this.imageObj = new Image();\n",
       "\n",
       "    this.context = undefined;\n",
       "    this.message = undefined;\n",
       "    this.canvas = undefined;\n",
       "    this.rubberband_canvas = undefined;\n",
       "    this.rubberband_context = undefined;\n",
       "    this.format_dropdown = undefined;\n",
       "\n",
       "    this.image_mode = 'full';\n",
       "\n",
       "    this.root = $('<div/>');\n",
       "    this._root_extra_style(this.root)\n",
       "    this.root.attr('style', 'display: inline-block');\n",
       "\n",
       "    $(parent_element).append(this.root);\n",
       "\n",
       "    this._init_header(this);\n",
       "    this._init_canvas(this);\n",
       "    this._init_toolbar(this);\n",
       "\n",
       "    var fig = this;\n",
       "\n",
       "    this.waiting = false;\n",
       "\n",
       "    this.ws.onopen =  function () {\n",
       "            fig.send_message(\"supports_binary\", {value: fig.supports_binary});\n",
       "            fig.send_message(\"send_image_mode\", {});\n",
       "            if (mpl.ratio != 1) {\n",
       "                fig.send_message(\"set_dpi_ratio\", {'dpi_ratio': mpl.ratio});\n",
       "            }\n",
       "            fig.send_message(\"refresh\", {});\n",
       "        }\n",
       "\n",
       "    this.imageObj.onload = function() {\n",
       "            if (fig.image_mode == 'full') {\n",
       "                // Full images could contain transparency (where diff images\n",
       "                // almost always do), so we need to clear the canvas so that\n",
       "                // there is no ghosting.\n",
       "                fig.context.clearRect(0, 0, fig.canvas.width, fig.canvas.height);\n",
       "            }\n",
       "            fig.context.drawImage(fig.imageObj, 0, 0);\n",
       "        };\n",
       "\n",
       "    this.imageObj.onunload = function() {\n",
       "        fig.ws.close();\n",
       "    }\n",
       "\n",
       "    this.ws.onmessage = this._make_on_message_function(this);\n",
       "\n",
       "    this.ondownload = ondownload;\n",
       "}\n",
       "\n",
       "mpl.figure.prototype._init_header = function() {\n",
       "    var titlebar = $(\n",
       "        '<div class=\"ui-dialog-titlebar ui-widget-header ui-corner-all ' +\n",
       "        'ui-helper-clearfix\"/>');\n",
       "    var titletext = $(\n",
       "        '<div class=\"ui-dialog-title\" style=\"width: 100%; ' +\n",
       "        'text-align: center; padding: 3px;\"/>');\n",
       "    titlebar.append(titletext)\n",
       "    this.root.append(titlebar);\n",
       "    this.header = titletext[0];\n",
       "}\n",
       "\n",
       "\n",
       "\n",
       "mpl.figure.prototype._canvas_extra_style = function(canvas_div) {\n",
       "\n",
       "}\n",
       "\n",
       "\n",
       "mpl.figure.prototype._root_extra_style = function(canvas_div) {\n",
       "\n",
       "}\n",
       "\n",
       "mpl.figure.prototype._init_canvas = function() {\n",
       "    var fig = this;\n",
       "\n",
       "    var canvas_div = $('<div/>');\n",
       "\n",
       "    canvas_div.attr('style', 'position: relative; clear: both; outline: 0');\n",
       "\n",
       "    function canvas_keyboard_event(event) {\n",
       "        return fig.key_event(event, event['data']);\n",
       "    }\n",
       "\n",
       "    canvas_div.keydown('key_press', canvas_keyboard_event);\n",
       "    canvas_div.keyup('key_release', canvas_keyboard_event);\n",
       "    this.canvas_div = canvas_div\n",
       "    this._canvas_extra_style(canvas_div)\n",
       "    this.root.append(canvas_div);\n",
       "\n",
       "    var canvas = $('<canvas/>');\n",
       "    canvas.addClass('mpl-canvas');\n",
       "    canvas.attr('style', \"left: 0; top: 0; z-index: 0; outline: 0\")\n",
       "\n",
       "    this.canvas = canvas[0];\n",
       "    this.context = canvas[0].getContext(\"2d\");\n",
       "\n",
       "    var backingStore = this.context.backingStorePixelRatio ||\n",
       "\tthis.context.webkitBackingStorePixelRatio ||\n",
       "\tthis.context.mozBackingStorePixelRatio ||\n",
       "\tthis.context.msBackingStorePixelRatio ||\n",
       "\tthis.context.oBackingStorePixelRatio ||\n",
       "\tthis.context.backingStorePixelRatio || 1;\n",
       "\n",
       "    mpl.ratio = (window.devicePixelRatio || 1) / backingStore;\n",
       "\n",
       "    var rubberband = $('<canvas/>');\n",
       "    rubberband.attr('style', \"position: absolute; left: 0; top: 0; z-index: 1;\")\n",
       "\n",
       "    var pass_mouse_events = true;\n",
       "\n",
       "    canvas_div.resizable({\n",
       "        start: function(event, ui) {\n",
       "            pass_mouse_events = false;\n",
       "        },\n",
       "        resize: function(event, ui) {\n",
       "            fig.request_resize(ui.size.width, ui.size.height);\n",
       "        },\n",
       "        stop: function(event, ui) {\n",
       "            pass_mouse_events = true;\n",
       "            fig.request_resize(ui.size.width, ui.size.height);\n",
       "        },\n",
       "    });\n",
       "\n",
       "    function mouse_event_fn(event) {\n",
       "        if (pass_mouse_events)\n",
       "            return fig.mouse_event(event, event['data']);\n",
       "    }\n",
       "\n",
       "    rubberband.mousedown('button_press', mouse_event_fn);\n",
       "    rubberband.mouseup('button_release', mouse_event_fn);\n",
       "    // Throttle sequential mouse events to 1 every 20ms.\n",
       "    rubberband.mousemove('motion_notify', mouse_event_fn);\n",
       "\n",
       "    rubberband.mouseenter('figure_enter', mouse_event_fn);\n",
       "    rubberband.mouseleave('figure_leave', mouse_event_fn);\n",
       "\n",
       "    canvas_div.on(\"wheel\", function (event) {\n",
       "        event = event.originalEvent;\n",
       "        event['data'] = 'scroll'\n",
       "        if (event.deltaY < 0) {\n",
       "            event.step = 1;\n",
       "        } else {\n",
       "            event.step = -1;\n",
       "        }\n",
       "        mouse_event_fn(event);\n",
       "    });\n",
       "\n",
       "    canvas_div.append(canvas);\n",
       "    canvas_div.append(rubberband);\n",
       "\n",
       "    this.rubberband = rubberband;\n",
       "    this.rubberband_canvas = rubberband[0];\n",
       "    this.rubberband_context = rubberband[0].getContext(\"2d\");\n",
       "    this.rubberband_context.strokeStyle = \"#000000\";\n",
       "\n",
       "    this._resize_canvas = function(width, height) {\n",
       "        // Keep the size of the canvas, canvas container, and rubber band\n",
       "        // canvas in synch.\n",
       "        canvas_div.css('width', width)\n",
       "        canvas_div.css('height', height)\n",
       "\n",
       "        canvas.attr('width', width * mpl.ratio);\n",
       "        canvas.attr('height', height * mpl.ratio);\n",
       "        canvas.attr('style', 'width: ' + width + 'px; height: ' + height + 'px;');\n",
       "\n",
       "        rubberband.attr('width', width);\n",
       "        rubberband.attr('height', height);\n",
       "    }\n",
       "\n",
       "    // Set the figure to an initial 600x600px, this will subsequently be updated\n",
       "    // upon first draw.\n",
       "    this._resize_canvas(600, 600);\n",
       "\n",
       "    // Disable right mouse context menu.\n",
       "    $(this.rubberband_canvas).bind(\"contextmenu\",function(e){\n",
       "        return false;\n",
       "    });\n",
       "\n",
       "    function set_focus () {\n",
       "        canvas.focus();\n",
       "        canvas_div.focus();\n",
       "    }\n",
       "\n",
       "    window.setTimeout(set_focus, 100);\n",
       "}\n",
       "\n",
       "mpl.figure.prototype._init_toolbar = function() {\n",
       "    var fig = this;\n",
       "\n",
       "    var nav_element = $('<div/>')\n",
       "    nav_element.attr('style', 'width: 100%');\n",
       "    this.root.append(nav_element);\n",
       "\n",
       "    // Define a callback function for later on.\n",
       "    function toolbar_event(event) {\n",
       "        return fig.toolbar_button_onclick(event['data']);\n",
       "    }\n",
       "    function toolbar_mouse_event(event) {\n",
       "        return fig.toolbar_button_onmouseover(event['data']);\n",
       "    }\n",
       "\n",
       "    for(var toolbar_ind in mpl.toolbar_items) {\n",
       "        var name = mpl.toolbar_items[toolbar_ind][0];\n",
       "        var tooltip = mpl.toolbar_items[toolbar_ind][1];\n",
       "        var image = mpl.toolbar_items[toolbar_ind][2];\n",
       "        var method_name = mpl.toolbar_items[toolbar_ind][3];\n",
       "\n",
       "        if (!name) {\n",
       "            // put a spacer in here.\n",
       "            continue;\n",
       "        }\n",
       "        var button = $('<button/>');\n",
       "        button.addClass('ui-button ui-widget ui-state-default ui-corner-all ' +\n",
       "                        'ui-button-icon-only');\n",
       "        button.attr('role', 'button');\n",
       "        button.attr('aria-disabled', 'false');\n",
       "        button.click(method_name, toolbar_event);\n",
       "        button.mouseover(tooltip, toolbar_mouse_event);\n",
       "\n",
       "        var icon_img = $('<span/>');\n",
       "        icon_img.addClass('ui-button-icon-primary ui-icon');\n",
       "        icon_img.addClass(image);\n",
       "        icon_img.addClass('ui-corner-all');\n",
       "\n",
       "        var tooltip_span = $('<span/>');\n",
       "        tooltip_span.addClass('ui-button-text');\n",
       "        tooltip_span.html(tooltip);\n",
       "\n",
       "        button.append(icon_img);\n",
       "        button.append(tooltip_span);\n",
       "\n",
       "        nav_element.append(button);\n",
       "    }\n",
       "\n",
       "    var fmt_picker_span = $('<span/>');\n",
       "\n",
       "    var fmt_picker = $('<select/>');\n",
       "    fmt_picker.addClass('mpl-toolbar-option ui-widget ui-widget-content');\n",
       "    fmt_picker_span.append(fmt_picker);\n",
       "    nav_element.append(fmt_picker_span);\n",
       "    this.format_dropdown = fmt_picker[0];\n",
       "\n",
       "    for (var ind in mpl.extensions) {\n",
       "        var fmt = mpl.extensions[ind];\n",
       "        var option = $(\n",
       "            '<option/>', {selected: fmt === mpl.default_extension}).html(fmt);\n",
       "        fmt_picker.append(option)\n",
       "    }\n",
       "\n",
       "    // Add hover states to the ui-buttons\n",
       "    $( \".ui-button\" ).hover(\n",
       "        function() { $(this).addClass(\"ui-state-hover\");},\n",
       "        function() { $(this).removeClass(\"ui-state-hover\");}\n",
       "    );\n",
       "\n",
       "    var status_bar = $('<span class=\"mpl-message\"/>');\n",
       "    nav_element.append(status_bar);\n",
       "    this.message = status_bar[0];\n",
       "}\n",
       "\n",
       "mpl.figure.prototype.request_resize = function(x_pixels, y_pixels) {\n",
       "    // Request matplotlib to resize the figure. Matplotlib will then trigger a resize in the client,\n",
       "    // which will in turn request a refresh of the image.\n",
       "    this.send_message('resize', {'width': x_pixels, 'height': y_pixels});\n",
       "}\n",
       "\n",
       "mpl.figure.prototype.send_message = function(type, properties) {\n",
       "    properties['type'] = type;\n",
       "    properties['figure_id'] = this.id;\n",
       "    this.ws.send(JSON.stringify(properties));\n",
       "}\n",
       "\n",
       "mpl.figure.prototype.send_draw_message = function() {\n",
       "    if (!this.waiting) {\n",
       "        this.waiting = true;\n",
       "        this.ws.send(JSON.stringify({type: \"draw\", figure_id: this.id}));\n",
       "    }\n",
       "}\n",
       "\n",
       "\n",
       "mpl.figure.prototype.handle_save = function(fig, msg) {\n",
       "    var format_dropdown = fig.format_dropdown;\n",
       "    var format = format_dropdown.options[format_dropdown.selectedIndex].value;\n",
       "    fig.ondownload(fig, format);\n",
       "}\n",
       "\n",
       "\n",
       "mpl.figure.prototype.handle_resize = function(fig, msg) {\n",
       "    var size = msg['size'];\n",
       "    if (size[0] != fig.canvas.width || size[1] != fig.canvas.height) {\n",
       "        fig._resize_canvas(size[0], size[1]);\n",
       "        fig.send_message(\"refresh\", {});\n",
       "    };\n",
       "}\n",
       "\n",
       "mpl.figure.prototype.handle_rubberband = function(fig, msg) {\n",
       "    var x0 = msg['x0'] / mpl.ratio;\n",
       "    var y0 = (fig.canvas.height - msg['y0']) / mpl.ratio;\n",
       "    var x1 = msg['x1'] / mpl.ratio;\n",
       "    var y1 = (fig.canvas.height - msg['y1']) / mpl.ratio;\n",
       "    x0 = Math.floor(x0) + 0.5;\n",
       "    y0 = Math.floor(y0) + 0.5;\n",
       "    x1 = Math.floor(x1) + 0.5;\n",
       "    y1 = Math.floor(y1) + 0.5;\n",
       "    var min_x = Math.min(x0, x1);\n",
       "    var min_y = Math.min(y0, y1);\n",
       "    var width = Math.abs(x1 - x0);\n",
       "    var height = Math.abs(y1 - y0);\n",
       "\n",
       "    fig.rubberband_context.clearRect(\n",
       "        0, 0, fig.canvas.width, fig.canvas.height);\n",
       "\n",
       "    fig.rubberband_context.strokeRect(min_x, min_y, width, height);\n",
       "}\n",
       "\n",
       "mpl.figure.prototype.handle_figure_label = function(fig, msg) {\n",
       "    // Updates the figure title.\n",
       "    fig.header.textContent = msg['label'];\n",
       "}\n",
       "\n",
       "mpl.figure.prototype.handle_cursor = function(fig, msg) {\n",
       "    var cursor = msg['cursor'];\n",
       "    switch(cursor)\n",
       "    {\n",
       "    case 0:\n",
       "        cursor = 'pointer';\n",
       "        break;\n",
       "    case 1:\n",
       "        cursor = 'default';\n",
       "        break;\n",
       "    case 2:\n",
       "        cursor = 'crosshair';\n",
       "        break;\n",
       "    case 3:\n",
       "        cursor = 'move';\n",
       "        break;\n",
       "    }\n",
       "    fig.rubberband_canvas.style.cursor = cursor;\n",
       "}\n",
       "\n",
       "mpl.figure.prototype.handle_message = function(fig, msg) {\n",
       "    fig.message.textContent = msg['message'];\n",
       "}\n",
       "\n",
       "mpl.figure.prototype.handle_draw = function(fig, msg) {\n",
       "    // Request the server to send over a new figure.\n",
       "    fig.send_draw_message();\n",
       "}\n",
       "\n",
       "mpl.figure.prototype.handle_image_mode = function(fig, msg) {\n",
       "    fig.image_mode = msg['mode'];\n",
       "}\n",
       "\n",
       "mpl.figure.prototype.updated_canvas_event = function() {\n",
       "    // Called whenever the canvas gets updated.\n",
       "    this.send_message(\"ack\", {});\n",
       "}\n",
       "\n",
       "// A function to construct a web socket function for onmessage handling.\n",
       "// Called in the figure constructor.\n",
       "mpl.figure.prototype._make_on_message_function = function(fig) {\n",
       "    return function socket_on_message(evt) {\n",
       "        if (evt.data instanceof Blob) {\n",
       "            /* FIXME: We get \"Resource interpreted as Image but\n",
       "             * transferred with MIME type text/plain:\" errors on\n",
       "             * Chrome.  But how to set the MIME type?  It doesn't seem\n",
       "             * to be part of the websocket stream */\n",
       "            evt.data.type = \"image/png\";\n",
       "\n",
       "            /* Free the memory for the previous frames */\n",
       "            if (fig.imageObj.src) {\n",
       "                (window.URL || window.webkitURL).revokeObjectURL(\n",
       "                    fig.imageObj.src);\n",
       "            }\n",
       "\n",
       "            fig.imageObj.src = (window.URL || window.webkitURL).createObjectURL(\n",
       "                evt.data);\n",
       "            fig.updated_canvas_event();\n",
       "            fig.waiting = false;\n",
       "            return;\n",
       "        }\n",
       "        else if (typeof evt.data === 'string' && evt.data.slice(0, 21) == \"data:image/png;base64\") {\n",
       "            fig.imageObj.src = evt.data;\n",
       "            fig.updated_canvas_event();\n",
       "            fig.waiting = false;\n",
       "            return;\n",
       "        }\n",
       "\n",
       "        var msg = JSON.parse(evt.data);\n",
       "        var msg_type = msg['type'];\n",
       "\n",
       "        // Call the  \"handle_{type}\" callback, which takes\n",
       "        // the figure and JSON message as its only arguments.\n",
       "        try {\n",
       "            var callback = fig[\"handle_\" + msg_type];\n",
       "        } catch (e) {\n",
       "            console.log(\"No handler for the '\" + msg_type + \"' message type: \", msg);\n",
       "            return;\n",
       "        }\n",
       "\n",
       "        if (callback) {\n",
       "            try {\n",
       "                // console.log(\"Handling '\" + msg_type + \"' message: \", msg);\n",
       "                callback(fig, msg);\n",
       "            } catch (e) {\n",
       "                console.log(\"Exception inside the 'handler_\" + msg_type + \"' callback:\", e, e.stack, msg);\n",
       "            }\n",
       "        }\n",
       "    };\n",
       "}\n",
       "\n",
       "// from http://stackoverflow.com/questions/1114465/getting-mouse-location-in-canvas\n",
       "mpl.findpos = function(e) {\n",
       "    //this section is from http://www.quirksmode.org/js/events_properties.html\n",
       "    var targ;\n",
       "    if (!e)\n",
       "        e = window.event;\n",
       "    if (e.target)\n",
       "        targ = e.target;\n",
       "    else if (e.srcElement)\n",
       "        targ = e.srcElement;\n",
       "    if (targ.nodeType == 3) // defeat Safari bug\n",
       "        targ = targ.parentNode;\n",
       "\n",
       "    // jQuery normalizes the pageX and pageY\n",
       "    // pageX,Y are the mouse positions relative to the document\n",
       "    // offset() returns the position of the element relative to the document\n",
       "    var x = e.pageX - $(targ).offset().left;\n",
       "    var y = e.pageY - $(targ).offset().top;\n",
       "\n",
       "    return {\"x\": x, \"y\": y};\n",
       "};\n",
       "\n",
       "/*\n",
       " * return a copy of an object with only non-object keys\n",
       " * we need this to avoid circular references\n",
       " * http://stackoverflow.com/a/24161582/3208463\n",
       " */\n",
       "function simpleKeys (original) {\n",
       "  return Object.keys(original).reduce(function (obj, key) {\n",
       "    if (typeof original[key] !== 'object')\n",
       "        obj[key] = original[key]\n",
       "    return obj;\n",
       "  }, {});\n",
       "}\n",
       "\n",
       "mpl.figure.prototype.mouse_event = function(event, name) {\n",
       "    var canvas_pos = mpl.findpos(event)\n",
       "\n",
       "    if (name === 'button_press')\n",
       "    {\n",
       "        this.canvas.focus();\n",
       "        this.canvas_div.focus();\n",
       "    }\n",
       "\n",
       "    var x = canvas_pos.x * mpl.ratio;\n",
       "    var y = canvas_pos.y * mpl.ratio;\n",
       "\n",
       "    this.send_message(name, {x: x, y: y, button: event.button,\n",
       "                             step: event.step,\n",
       "                             guiEvent: simpleKeys(event)});\n",
       "\n",
       "    /* This prevents the web browser from automatically changing to\n",
       "     * the text insertion cursor when the button is pressed.  We want\n",
       "     * to control all of the cursor setting manually through the\n",
       "     * 'cursor' event from matplotlib */\n",
       "    event.preventDefault();\n",
       "    return false;\n",
       "}\n",
       "\n",
       "mpl.figure.prototype._key_event_extra = function(event, name) {\n",
       "    // Handle any extra behaviour associated with a key event\n",
       "}\n",
       "\n",
       "mpl.figure.prototype.key_event = function(event, name) {\n",
       "\n",
       "    // Prevent repeat events\n",
       "    if (name == 'key_press')\n",
       "    {\n",
       "        if (event.which === this._key)\n",
       "            return;\n",
       "        else\n",
       "            this._key = event.which;\n",
       "    }\n",
       "    if (name == 'key_release')\n",
       "        this._key = null;\n",
       "\n",
       "    var value = '';\n",
       "    if (event.ctrlKey && event.which != 17)\n",
       "        value += \"ctrl+\";\n",
       "    if (event.altKey && event.which != 18)\n",
       "        value += \"alt+\";\n",
       "    if (event.shiftKey && event.which != 16)\n",
       "        value += \"shift+\";\n",
       "\n",
       "    value += 'k';\n",
       "    value += event.which.toString();\n",
       "\n",
       "    this._key_event_extra(event, name);\n",
       "\n",
       "    this.send_message(name, {key: value,\n",
       "                             guiEvent: simpleKeys(event)});\n",
       "    return false;\n",
       "}\n",
       "\n",
       "mpl.figure.prototype.toolbar_button_onclick = function(name) {\n",
       "    if (name == 'download') {\n",
       "        this.handle_save(this, null);\n",
       "    } else {\n",
       "        this.send_message(\"toolbar_button\", {name: name});\n",
       "    }\n",
       "};\n",
       "\n",
       "mpl.figure.prototype.toolbar_button_onmouseover = function(tooltip) {\n",
       "    this.message.textContent = tooltip;\n",
       "};\n",
       "mpl.toolbar_items = [[\"Home\", \"Reset original view\", \"fa fa-home icon-home\", \"home\"], [\"Back\", \"Back to previous view\", \"fa fa-arrow-left icon-arrow-left\", \"back\"], [\"Forward\", \"Forward to next view\", \"fa fa-arrow-right icon-arrow-right\", \"forward\"], [\"\", \"\", \"\", \"\"], [\"Pan\", \"Pan axes with left mouse, zoom with right\", \"fa fa-arrows icon-move\", \"pan\"], [\"Zoom\", \"Zoom to rectangle\", \"fa fa-square-o icon-check-empty\", \"zoom\"], [\"\", \"\", \"\", \"\"], [\"Download\", \"Download plot\", \"fa fa-floppy-o icon-save\", \"download\"]];\n",
       "\n",
       "mpl.extensions = [\"eps\", \"jpeg\", \"pdf\", \"png\", \"ps\", \"raw\", \"svg\", \"tif\"];\n",
       "\n",
       "mpl.default_extension = \"png\";var comm_websocket_adapter = function(comm) {\n",
       "    // Create a \"websocket\"-like object which calls the given IPython comm\n",
       "    // object with the appropriate methods. Currently this is a non binary\n",
       "    // socket, so there is still some room for performance tuning.\n",
       "    var ws = {};\n",
       "\n",
       "    ws.close = function() {\n",
       "        comm.close()\n",
       "    };\n",
       "    ws.send = function(m) {\n",
       "        //console.log('sending', m);\n",
       "        comm.send(m);\n",
       "    };\n",
       "    // Register the callback with on_msg.\n",
       "    comm.on_msg(function(msg) {\n",
       "        //console.log('receiving', msg['content']['data'], msg);\n",
       "        // Pass the mpl event to the overridden (by mpl) onmessage function.\n",
       "        ws.onmessage(msg['content']['data'])\n",
       "    });\n",
       "    return ws;\n",
       "}\n",
       "\n",
       "mpl.mpl_figure_comm = function(comm, msg) {\n",
       "    // This is the function which gets called when the mpl process\n",
       "    // starts-up an IPython Comm through the \"matplotlib\" channel.\n",
       "\n",
       "    var id = msg.content.data.id;\n",
       "    // Get hold of the div created by the display call when the Comm\n",
       "    // socket was opened in Python.\n",
       "    var element = $(\"#\" + id);\n",
       "    var ws_proxy = comm_websocket_adapter(comm)\n",
       "\n",
       "    function ondownload(figure, format) {\n",
       "        window.open(figure.imageObj.src);\n",
       "    }\n",
       "\n",
       "    var fig = new mpl.figure(id, ws_proxy,\n",
       "                           ondownload,\n",
       "                           element.get(0));\n",
       "\n",
       "    // Call onopen now - mpl needs it, as it is assuming we've passed it a real\n",
       "    // web socket which is closed, not our websocket->open comm proxy.\n",
       "    ws_proxy.onopen();\n",
       "\n",
       "    fig.parent_element = element.get(0);\n",
       "    fig.cell_info = mpl.find_output_cell(\"<div id='\" + id + \"'></div>\");\n",
       "    if (!fig.cell_info) {\n",
       "        console.error(\"Failed to find cell for figure\", id, fig);\n",
       "        return;\n",
       "    }\n",
       "\n",
       "    var output_index = fig.cell_info[2]\n",
       "    var cell = fig.cell_info[0];\n",
       "\n",
       "};\n",
       "\n",
       "mpl.figure.prototype.handle_close = function(fig, msg) {\n",
       "    var width = fig.canvas.width/mpl.ratio\n",
       "    fig.root.unbind('remove')\n",
       "\n",
       "    // Update the output cell to use the data from the current canvas.\n",
       "    fig.push_to_output();\n",
       "    var dataURL = fig.canvas.toDataURL();\n",
       "    // Re-enable the keyboard manager in IPython - without this line, in FF,\n",
       "    // the notebook keyboard shortcuts fail.\n",
       "    IPython.keyboard_manager.enable()\n",
       "    $(fig.parent_element).html('<img src=\"' + dataURL + '\" width=\"' + width + '\">');\n",
       "    fig.close_ws(fig, msg);\n",
       "}\n",
       "\n",
       "mpl.figure.prototype.close_ws = function(fig, msg){\n",
       "    fig.send_message('closing', msg);\n",
       "    // fig.ws.close()\n",
       "}\n",
       "\n",
       "mpl.figure.prototype.push_to_output = function(remove_interactive) {\n",
       "    // Turn the data on the canvas into data in the output cell.\n",
       "    var width = this.canvas.width/mpl.ratio\n",
       "    var dataURL = this.canvas.toDataURL();\n",
       "    this.cell_info[1]['text/html'] = '<img src=\"' + dataURL + '\" width=\"' + width + '\">';\n",
       "}\n",
       "\n",
       "mpl.figure.prototype.updated_canvas_event = function() {\n",
       "    // Tell IPython that the notebook contents must change.\n",
       "    IPython.notebook.set_dirty(true);\n",
       "    this.send_message(\"ack\", {});\n",
       "    var fig = this;\n",
       "    // Wait a second, then push the new image to the DOM so\n",
       "    // that it is saved nicely (might be nice to debounce this).\n",
       "    setTimeout(function () { fig.push_to_output() }, 1000);\n",
       "}\n",
       "\n",
       "mpl.figure.prototype._init_toolbar = function() {\n",
       "    var fig = this;\n",
       "\n",
       "    var nav_element = $('<div/>')\n",
       "    nav_element.attr('style', 'width: 100%');\n",
       "    this.root.append(nav_element);\n",
       "\n",
       "    // Define a callback function for later on.\n",
       "    function toolbar_event(event) {\n",
       "        return fig.toolbar_button_onclick(event['data']);\n",
       "    }\n",
       "    function toolbar_mouse_event(event) {\n",
       "        return fig.toolbar_button_onmouseover(event['data']);\n",
       "    }\n",
       "\n",
       "    for(var toolbar_ind in mpl.toolbar_items){\n",
       "        var name = mpl.toolbar_items[toolbar_ind][0];\n",
       "        var tooltip = mpl.toolbar_items[toolbar_ind][1];\n",
       "        var image = mpl.toolbar_items[toolbar_ind][2];\n",
       "        var method_name = mpl.toolbar_items[toolbar_ind][3];\n",
       "\n",
       "        if (!name) { continue; };\n",
       "\n",
       "        var button = $('<button class=\"btn btn-default\" href=\"#\" title=\"' + name + '\"><i class=\"fa ' + image + ' fa-lg\"></i></button>');\n",
       "        button.click(method_name, toolbar_event);\n",
       "        button.mouseover(tooltip, toolbar_mouse_event);\n",
       "        nav_element.append(button);\n",
       "    }\n",
       "\n",
       "    // Add the status bar.\n",
       "    var status_bar = $('<span class=\"mpl-message\" style=\"text-align:right; float: right;\"/>');\n",
       "    nav_element.append(status_bar);\n",
       "    this.message = status_bar[0];\n",
       "\n",
       "    // Add the close button to the window.\n",
       "    var buttongrp = $('<div class=\"btn-group inline pull-right\"></div>');\n",
       "    var button = $('<button class=\"btn btn-mini btn-primary\" href=\"#\" title=\"Stop Interaction\"><i class=\"fa fa-power-off icon-remove icon-large\"></i></button>');\n",
       "    button.click(function (evt) { fig.handle_close(fig, {}); } );\n",
       "    button.mouseover('Stop Interaction', toolbar_mouse_event);\n",
       "    buttongrp.append(button);\n",
       "    var titlebar = this.root.find($('.ui-dialog-titlebar'));\n",
       "    titlebar.prepend(buttongrp);\n",
       "}\n",
       "\n",
       "mpl.figure.prototype._root_extra_style = function(el){\n",
       "    var fig = this\n",
       "    el.on(\"remove\", function(){\n",
       "\tfig.close_ws(fig, {});\n",
       "    });\n",
       "}\n",
       "\n",
       "mpl.figure.prototype._canvas_extra_style = function(el){\n",
       "    // this is important to make the div 'focusable\n",
       "    el.attr('tabindex', 0)\n",
       "    // reach out to IPython and tell the keyboard manager to turn it's self\n",
       "    // off when our div gets focus\n",
       "\n",
       "    // location in version 3\n",
       "    if (IPython.notebook.keyboard_manager) {\n",
       "        IPython.notebook.keyboard_manager.register_events(el);\n",
       "    }\n",
       "    else {\n",
       "        // location in version 2\n",
       "        IPython.keyboard_manager.register_events(el);\n",
       "    }\n",
       "\n",
       "}\n",
       "\n",
       "mpl.figure.prototype._key_event_extra = function(event, name) {\n",
       "    var manager = IPython.notebook.keyboard_manager;\n",
       "    if (!manager)\n",
       "        manager = IPython.keyboard_manager;\n",
       "\n",
       "    // Check for shift+enter\n",
       "    if (event.shiftKey && event.which == 13) {\n",
       "        this.canvas_div.blur();\n",
       "        event.shiftKey = false;\n",
       "        // Send a \"J\" for go to next cell\n",
       "        event.which = 74;\n",
       "        event.keyCode = 74;\n",
       "        manager.command_mode();\n",
       "        manager.handle_keydown(event);\n",
       "    }\n",
       "}\n",
       "\n",
       "mpl.figure.prototype.handle_save = function(fig, msg) {\n",
       "    fig.ondownload(fig, null);\n",
       "}\n",
       "\n",
       "\n",
       "mpl.find_output_cell = function(html_output) {\n",
       "    // Return the cell and output element which can be found *uniquely* in the notebook.\n",
       "    // Note - this is a bit hacky, but it is done because the \"notebook_saving.Notebook\"\n",
       "    // IPython event is triggered only after the cells have been serialised, which for\n",
       "    // our purposes (turning an active figure into a static one), is too late.\n",
       "    var cells = IPython.notebook.get_cells();\n",
       "    var ncells = cells.length;\n",
       "    for (var i=0; i<ncells; i++) {\n",
       "        var cell = cells[i];\n",
       "        if (cell.cell_type === 'code'){\n",
       "            for (var j=0; j<cell.output_area.outputs.length; j++) {\n",
       "                var data = cell.output_area.outputs[j];\n",
       "                if (data.data) {\n",
       "                    // IPython >= 3 moved mimebundle to data attribute of output\n",
       "                    data = data.data;\n",
       "                }\n",
       "                if (data['text/html'] == html_output) {\n",
       "                    return [cell, data, j];\n",
       "                }\n",
       "            }\n",
       "        }\n",
       "    }\n",
       "}\n",
       "\n",
       "// Register the function which deals with the matplotlib target/channel.\n",
       "// The kernel may be null if the page has been refreshed.\n",
       "if (IPython.notebook.kernel != null) {\n",
       "    IPython.notebook.kernel.comm_manager.register_target('matplotlib', mpl.mpl_figure_comm);\n",
       "}\n"
      ],
      "text/plain": [
       "<IPython.core.display.Javascript object>"
      ]
     },
     "metadata": {},
     "output_type": "display_data"
    },
    {
     "data": {
      "text/html": [
       "<img src=\"data:image/png;base64,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\" width=\"638.888905813665\">"
      ],
      "text/plain": [
       "<IPython.core.display.HTML object>"
      ]
     },
     "metadata": {},
     "output_type": "display_data"
    },
    {
     "data": {
      "text/plain": [
       "<matplotlib.image.AxesImage at 0x7f95483dc198>"
      ]
     },
     "execution_count": 41,
     "metadata": {},
     "output_type": "execute_result"
    }
   ],
   "source": [
    "%matplotlib notebook\n",
    "red, green, blue, alpha = lccs_l3.colour_lccs_level3(level3)\n",
    "pyplot.imshow(numpy.dstack([red, green, blue, alpha]))\n",
    "#classification_data.level3.plot(cmap='', figsize=(10,10))"
   ]
  },
  {
   "cell_type": "code",
   "execution_count": 42,
   "metadata": {},
   "outputs": [],
   "source": [
    "import gdal\n",
    "def array_to_geotiff(fname, data, geo_transform, projection,\n",
    "                     nodata_val=0, dtype=gdal.GDT_Float32):\n",
    "    \"\"\"\n",
    "    Create a single band GeoTIFF file with data from an array. \n",
    "    \n",
    "    Because this works with simple arrays rather than xarray datasets from DEA, it requires\n",
    "    geotransform info (\"(upleft_x, x_size, x_rotation, upleft_y, y_rotation, y_size)\") and \n",
    "    projection data (in \"WKT\" format) for the output raster. These are typically obtained from \n",
    "    an existing raster using the following GDAL calls:\n",
    "    \n",
    "        import gdal\n",
    "        gdal_dataset = gdal.Open(raster_path)\n",
    "        geotrans = gdal_dataset.GetGeoTransform()\n",
    "        prj = gdal_dataset.GetProjection()\n",
    "    \n",
    "    ...or alternatively, directly from an xarray dataset:\n",
    "    \n",
    "        geotrans = xarraydataset.geobox.transform.to_gdal()\n",
    "        prj = xarraydataset.geobox.crs.wkt\n",
    "    \n",
    "    Last modified: March 2018\n",
    "    Author: Robbi Bishop-Taylor\n",
    "    \n",
    "    :param fname: \n",
    "        Output geotiff file path including extension\n",
    "        \n",
    "    :param data: \n",
    "        Input array to export as a geotiff\n",
    "        \n",
    "    :param geo_transform: \n",
    "        Geotransform for output raster; e.g. \"(upleft_x, x_size, x_rotation, \n",
    "        upleft_y, y_rotation, y_size)\"\n",
    "        \n",
    "    :param projection:\n",
    "        Projection for output raster (in \"WKT\" format)\n",
    "        \n",
    "    :param nodata_val: \n",
    "        Value to convert to nodata in the output raster; default 0\n",
    "        \n",
    "    :param dtype: \n",
    "        Optionally set the dtype of the output raster; can be useful when exporting \n",
    "        an array of float or integer values. Defaults to gdal.GDT_Float32\n",
    "        \n",
    "    \"\"\"\n",
    "\n",
    "    # Set up driver\n",
    "    driver = gdal.GetDriverByName('GTiff')\n",
    "\n",
    "    # Create raster of given size and projection\n",
    "    rows, cols = data.shape\n",
    "    dataset = driver.Create(fname, cols, rows, 1, dtype)\n",
    "    dataset.SetGeoTransform(geo_transform)\n",
    "    dataset.SetProjection(projection)\n",
    "\n",
    "    # Write data to array and set nodata values\n",
    "    band = dataset.GetRasterBand(1)\n",
    "    band.WriteArray(data)\n",
    "    band.SetNoDataValue(nodata_val)\n",
    "\n",
    "    # Close file\n",
    "    dataset = None"
   ]
  },
  {
   "cell_type": "code",
   "execution_count": 43,
   "metadata": {},
   "outputs": [],
   "source": [
    "#create 'transform' tuple that will define the dimensions of the rasterized shapefile and exporty\n",
    "import osr\n",
    "srs = osr.SpatialReference()\n",
    "srs.ImportFromEPSG(3577)\n",
    "prj_wkt = srs.ExportToWkt()\n",
    "\n",
    "easting = float(ls8_gm.x[0])\n",
    "W_E_pixelRes = float(ls8_gm.y[0] - ls8_gm.y[1])\n",
    "rotation = 0.0 #(if image is 'north up')\n",
    "northing = float(ls8_gm.y[0])\n",
    "rotation1 = 0.0 #(if image is 'north up')\n",
    "N_S_pixelRes = float(ls8_gm.x[0] - ls8_gm.x[1])\n",
    "\n",
    "transform = (easting, W_E_pixelRes, rotation, northing, rotation1, N_S_pixelRes)\n",
    "\n",
    "array_to_geotiff('bleh_0.tif',\n",
    "                              level3,\n",
    "                              geo_transform = transform, \n",
    "                              projection = prj_wkt, \n",
    "                              nodata_val=0)"
   ]
  }
 ],
 "metadata": {
  "kernelspec": {
   "display_name": "Python 3",
   "language": "python",
   "name": "python3"
  },
  "language_info": {
   "codemirror_mode": {
    "name": "ipython",
    "version": 3
   },
   "file_extension": ".py",
   "mimetype": "text/x-python",
   "name": "python",
   "nbconvert_exporter": "python",
   "pygments_lexer": "ipython3",
   "version": "3.6.7"
  }
 },
 "nbformat": 4,
 "nbformat_minor": 2
}
